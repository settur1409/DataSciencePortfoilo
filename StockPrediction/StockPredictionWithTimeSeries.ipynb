{
 "cells": [
  {
   "cell_type": "code",
   "execution_count": 4,
   "metadata": {},
   "outputs": [
    {
     "data": {
      "text/html": [
       "<div>\n",
       "<style scoped>\n",
       "    .dataframe tbody tr th:only-of-type {\n",
       "        vertical-align: middle;\n",
       "    }\n",
       "\n",
       "    .dataframe tbody tr th {\n",
       "        vertical-align: top;\n",
       "    }\n",
       "\n",
       "    .dataframe thead th {\n",
       "        text-align: right;\n",
       "    }\n",
       "</style>\n",
       "<table border=\"1\" class=\"dataframe\">\n",
       "  <thead>\n",
       "    <tr style=\"text-align: right;\">\n",
       "      <th></th>\n",
       "      <th>Open</th>\n",
       "      <th>High</th>\n",
       "      <th>Low</th>\n",
       "      <th>Close</th>\n",
       "      <th>Adj Close</th>\n",
       "      <th>Volume</th>\n",
       "    </tr>\n",
       "    <tr>\n",
       "      <th>Date</th>\n",
       "      <th></th>\n",
       "      <th></th>\n",
       "      <th></th>\n",
       "      <th></th>\n",
       "      <th></th>\n",
       "      <th></th>\n",
       "    </tr>\n",
       "  </thead>\n",
       "  <tbody>\n",
       "    <tr>\n",
       "      <th>2018-08-16</th>\n",
       "      <td>261.899994</td>\n",
       "      <td>262.000000</td>\n",
       "      <td>255.009995</td>\n",
       "      <td>257.440002</td>\n",
       "      <td>256.484650</td>\n",
       "      <td>20031500</td>\n",
       "    </tr>\n",
       "    <tr>\n",
       "      <th>2018-08-17</th>\n",
       "      <td>252.940002</td>\n",
       "      <td>252.970001</td>\n",
       "      <td>243.729996</td>\n",
       "      <td>244.820007</td>\n",
       "      <td>243.911514</td>\n",
       "      <td>28579700</td>\n",
       "    </tr>\n",
       "    <tr>\n",
       "      <th>2018-08-20</th>\n",
       "      <td>243.179993</td>\n",
       "      <td>253.199997</td>\n",
       "      <td>238.720001</td>\n",
       "      <td>247.839996</td>\n",
       "      <td>246.920288</td>\n",
       "      <td>21359700</td>\n",
       "    </tr>\n",
       "    <tr>\n",
       "      <th>2018-08-21</th>\n",
       "      <td>248.500000</td>\n",
       "      <td>253.500000</td>\n",
       "      <td>247.699997</td>\n",
       "      <td>253.320007</td>\n",
       "      <td>252.379959</td>\n",
       "      <td>16849700</td>\n",
       "    </tr>\n",
       "    <tr>\n",
       "      <th>2018-08-22</th>\n",
       "      <td>252.000000</td>\n",
       "      <td>263.019989</td>\n",
       "      <td>251.860001</td>\n",
       "      <td>262.820007</td>\n",
       "      <td>261.844696</td>\n",
       "      <td>18746400</td>\n",
       "    </tr>\n",
       "  </tbody>\n",
       "</table>\n",
       "</div>"
      ],
      "text/plain": [
       "                  Open        High         Low       Close   Adj Close  \\\n",
       "Date                                                                     \n",
       "2018-08-16  261.899994  262.000000  255.009995  257.440002  256.484650   \n",
       "2018-08-17  252.940002  252.970001  243.729996  244.820007  243.911514   \n",
       "2018-08-20  243.179993  253.199997  238.720001  247.839996  246.920288   \n",
       "2018-08-21  248.500000  253.500000  247.699997  253.320007  252.379959   \n",
       "2018-08-22  252.000000  263.019989  251.860001  262.820007  261.844696   \n",
       "\n",
       "              Volume  \n",
       "Date                  \n",
       "2018-08-16  20031500  \n",
       "2018-08-17  28579700  \n",
       "2018-08-20  21359700  \n",
       "2018-08-21  16849700  \n",
       "2018-08-22  18746400  "
      ]
     },
     "execution_count": 4,
     "metadata": {},
     "output_type": "execute_result"
    }
   ],
   "source": [
    "import numpy as np\n",
    "import pandas as pd\n",
    "\n",
    "NVDA_data_indexed = pd.read_csv('NVDA.csv', index_col='Date')\n",
    "NVDA_data_indexed.head()"
   ]
  },
  {
   "cell_type": "code",
   "execution_count": 5,
   "metadata": {},
   "outputs": [
    {
     "data": {
      "text/html": [
       "<div>\n",
       "<style scoped>\n",
       "    .dataframe tbody tr th:only-of-type {\n",
       "        vertical-align: middle;\n",
       "    }\n",
       "\n",
       "    .dataframe tbody tr th {\n",
       "        vertical-align: top;\n",
       "    }\n",
       "\n",
       "    .dataframe thead th {\n",
       "        text-align: right;\n",
       "    }\n",
       "</style>\n",
       "<table border=\"1\" class=\"dataframe\">\n",
       "  <thead>\n",
       "    <tr style=\"text-align: right;\">\n",
       "      <th></th>\n",
       "      <th>Date</th>\n",
       "      <th>Open</th>\n",
       "      <th>High</th>\n",
       "      <th>Low</th>\n",
       "      <th>Close</th>\n",
       "      <th>Adj Close</th>\n",
       "      <th>Volume</th>\n",
       "    </tr>\n",
       "  </thead>\n",
       "  <tbody>\n",
       "    <tr>\n",
       "      <th>0</th>\n",
       "      <td>2018-08-16</td>\n",
       "      <td>261.899994</td>\n",
       "      <td>262.000000</td>\n",
       "      <td>255.009995</td>\n",
       "      <td>257.440002</td>\n",
       "      <td>256.484650</td>\n",
       "      <td>20031500</td>\n",
       "    </tr>\n",
       "    <tr>\n",
       "      <th>1</th>\n",
       "      <td>2018-08-17</td>\n",
       "      <td>252.940002</td>\n",
       "      <td>252.970001</td>\n",
       "      <td>243.729996</td>\n",
       "      <td>244.820007</td>\n",
       "      <td>243.911514</td>\n",
       "      <td>28579700</td>\n",
       "    </tr>\n",
       "    <tr>\n",
       "      <th>2</th>\n",
       "      <td>2018-08-20</td>\n",
       "      <td>243.179993</td>\n",
       "      <td>253.199997</td>\n",
       "      <td>238.720001</td>\n",
       "      <td>247.839996</td>\n",
       "      <td>246.920288</td>\n",
       "      <td>21359700</td>\n",
       "    </tr>\n",
       "    <tr>\n",
       "      <th>3</th>\n",
       "      <td>2018-08-21</td>\n",
       "      <td>248.500000</td>\n",
       "      <td>253.500000</td>\n",
       "      <td>247.699997</td>\n",
       "      <td>253.320007</td>\n",
       "      <td>252.379959</td>\n",
       "      <td>16849700</td>\n",
       "    </tr>\n",
       "    <tr>\n",
       "      <th>4</th>\n",
       "      <td>2018-08-22</td>\n",
       "      <td>252.000000</td>\n",
       "      <td>263.019989</td>\n",
       "      <td>251.860001</td>\n",
       "      <td>262.820007</td>\n",
       "      <td>261.844696</td>\n",
       "      <td>18746400</td>\n",
       "    </tr>\n",
       "  </tbody>\n",
       "</table>\n",
       "</div>"
      ],
      "text/plain": [
       "         Date        Open        High         Low       Close   Adj Close  \\\n",
       "0  2018-08-16  261.899994  262.000000  255.009995  257.440002  256.484650   \n",
       "1  2018-08-17  252.940002  252.970001  243.729996  244.820007  243.911514   \n",
       "2  2018-08-20  243.179993  253.199997  238.720001  247.839996  246.920288   \n",
       "3  2018-08-21  248.500000  253.500000  247.699997  253.320007  252.379959   \n",
       "4  2018-08-22  252.000000  263.019989  251.860001  262.820007  261.844696   \n",
       "\n",
       "     Volume  \n",
       "0  20031500  \n",
       "1  28579700  \n",
       "2  21359700  \n",
       "3  16849700  \n",
       "4  18746400  "
      ]
     },
     "execution_count": 5,
     "metadata": {},
     "output_type": "execute_result"
    }
   ],
   "source": [
    "NVDA_data = pd.read_csv('NVDA.csv')\n",
    "NVDA_data.head()"
   ]
  },
  {
   "cell_type": "code",
   "execution_count": 10,
   "metadata": {},
   "outputs": [
    {
     "data": {
      "text/plain": [
       "(251, 7)"
      ]
     },
     "execution_count": 10,
     "metadata": {},
     "output_type": "execute_result"
    }
   ],
   "source": [
    "NVDA_data.shape"
   ]
  },
  {
   "cell_type": "code",
   "execution_count": 7,
   "metadata": {},
   "outputs": [
    {
     "data": {
      "image/png": "[encoded data removed]",
      "text/plain": [
       "<Figure size 432x288 with 1 Axes>"
      ]
     },
     "metadata": {
      "needs_background": "light"
     },
     "output_type": "display_data"
    }
   ],
   "source": [
    "import matplotlib.pyplot as plt\n",
    "plt.figure()\n",
    "plt.plot(NVDA_data[\"Open\"])\n",
    "plt.plot(NVDA_data[\"High\"])\n",
    "plt.plot(NVDA_data[\"Low\"])\n",
    "plt.plot(NVDA_data[\"Close\"])\n",
    "plt.title('NVDIA stock price history')\n",
    "plt.ylabel('Price (USD)')\n",
    "plt.xlabel('Days')\n",
    "plt.legend(['Open','High','Low','Close'], loc='upper left')\n",
    "plt.show()"
   ]
  },
  {
   "cell_type": "code",
   "execution_count": 8,
   "metadata": {},
   "outputs": [
    {
     "data": {
      "image/png": "[encoded data removed]",
      "text/plain": [
       "<Figure size 432x288 with 1 Axes>"
      ]
     },
     "metadata": {
      "needs_background": "light"
     },
     "output_type": "display_data"
    }
   ],
   "source": [
    "plt.figure()\n",
    "plt.plot(NVDA_data[\"Volume\"])\n",
    "plt.title('NVDIA stock volume history')\n",
    "plt.ylabel('Volume')\n",
    "plt.xlabel('Days')\n",
    "plt.show()"
   ]
  },
  {
   "cell_type": "code",
   "execution_count": 9,
   "metadata": {},
   "outputs": [
    {
     "name": "stdout",
     "output_type": "stream",
     "text": [
      "Train and Test size 200 51\n"
     ]
    }
   ],
   "source": [
    "from sklearn.preprocessing import MinMaxScaler\n",
    "from sklearn.model_selection import train_test_split\n",
    "\n",
    "train_cols = [\"Open\",\"High\",\"Low\",\"Close\",\"Volume\"]\n",
    "df_train, df_test = train_test_split(NVDA_data, train_size=0.8, test_size=0.2, shuffle=False)\n",
    "print(\"Train and Test size\", len(df_train), len(df_test))\n",
    "# scale the feature MinMax, build array\n",
    "x = df_train.loc[:,train_cols].values\n",
    "min_max_scaler = MinMaxScaler()\n",
    "x_train = min_max_scaler.fit_transform(x)\n",
    "x_test = min_max_scaler.transform(df_test.loc[:,train_cols])"
   ]
  },
  {
   "cell_type": "code",
   "execution_count": 32,
   "metadata": {},
   "outputs": [
    {
     "data": {
      "text/plain": [
       "array([], dtype=float64)"
      ]
     },
     "execution_count": 32,
     "metadata": {},
     "output_type": "execute_result"
    }
   ],
   "source": [
    "x_train[x_train <0]"
   ]
  },
  {
   "cell_type": "code",
   "execution_count": 37,
   "metadata": {},
   "outputs": [],
   "source": [
    "TIME_STEPS = 10\n",
    "BATCH_SIZE = 20\n",
    "from tqdm import tqdm_notebook as tqdm\n",
    "def build_timeseries(mat, y_col_index):\n",
    "    # y_col_index is the index of column that would act as output column\n",
    "    # total number of time-series samples would be len(mat) - TIME_STEPS\n",
    "    dim_0 = mat.shape[0] - TIME_STEPS\n",
    "    dim_1 = mat.shape[1]\n",
    "    x = np.zeros((dim_0, TIME_STEPS, dim_1))\n",
    "    y = np.zeros((dim_0,))\n",
    "    \n",
    "    for i in tqdm(range(dim_0)):\n",
    "        x[i] = mat[i:TIME_STEPS+i]\n",
    "        y[i] = mat[TIME_STEPS+i, y_col_index]\n",
    "    print(\"length of time-series i/o\",x.shape,y.shape)\n",
    "    return x, y"
   ]
  },
  {
   "cell_type": "code",
   "execution_count": 38,
   "metadata": {},
   "outputs": [],
   "source": [
    "def trim_dataset(mat, batch_size):\n",
    "    \"\"\"\n",
    "    trims dataset to a size that's divisible by BATCH_SIZE\n",
    "    \"\"\"\n",
    "    no_of_rows_drop = mat.shape[0]%batch_size\n",
    "    if(no_of_rows_drop > 0):\n",
    "        return mat[:-no_of_rows_drop]\n",
    "    else:\n",
    "        return mat"
   ]
  },
  {
   "cell_type": "code",
   "execution_count": 39,
   "metadata": {},
   "outputs": [
    {
     "data": {
      "application/vnd.jupyter.widget-view+json": {
       "model_id": "f1ec442a5f0d4a1db29c70b2cb376719",
       "version_major": 2,
       "version_minor": 0
      },
      "text/plain": [
       "HBox(children=(IntProgress(value=0, max=190), HTML(value='')))"
      ]
     },
     "metadata": {},
     "output_type": "display_data"
    },
    {
     "name": "stdout",
     "output_type": "stream",
     "text": [
      "\n",
      "length of time-series i/o (190, 10, 5) (190,)\n"
     ]
    },
    {
     "data": {
      "application/vnd.jupyter.widget-view+json": {
       "model_id": "a835070ecb814e0b8dd666e9336d5580",
       "version_major": 2,
       "version_minor": 0
      },
      "text/plain": [
       "HBox(children=(IntProgress(value=0, max=41), HTML(value='')))"
      ]
     },
     "metadata": {},
     "output_type": "display_data"
    },
    {
     "name": "stdout",
     "output_type": "stream",
     "text": [
      "\n",
      "length of time-series i/o (41, 10, 5) (41,)\n"
     ]
    }
   ],
   "source": [
    "x_t, y_t = build_timeseries(x_train, 3)\n",
    "x_t = trim_dataset(x_t, BATCH_SIZE)\n",
    "y_t = trim_dataset(y_t, BATCH_SIZE)\n",
    "x_temp, y_temp = build_timeseries(x_test, 3)\n",
    "x_val, x_test_t = np.split(trim_dataset(x_temp, BATCH_SIZE),2)\n",
    "y_val, y_test_t = np.split(trim_dataset(y_temp, BATCH_SIZE),2)"
   ]
  },
  {
   "cell_type": "code",
   "execution_count": 45,
   "metadata": {},
   "outputs": [
    {
     "name": "stderr",
     "output_type": "stream",
     "text": [
      "WARNING - From C:\\Users\\ssreekan\\AppData\\Local\\Continuum\\anaconda3\\lib\\site-packages\\keras\\optimizers.py:793: The name tf.train.Optimizer is deprecated. Please use tf.compat.v1.train.Optimizer instead.\n",
      "\n"
     ]
    }
   ],
   "source": [
    "from keras.layers.core import Dense, Dropout, Activation\n",
    "from keras.layers import LSTM\n",
    "from keras.models import Sequential\n",
    "from keras import optimizers\n",
    "\n",
    "lstm_model = Sequential()\n",
    "lstm_model.add(LSTM(100, batch_input_shape=(BATCH_SIZE, TIME_STEPS, x_t.shape[2]), dropout=0.0, recurrent_dropout=0.0, stateful=True,     kernel_initializer='random_uniform'))\n",
    "lstm_model.add(Dropout(0.5))\n",
    "lstm_model.add(Dense(20,activation='relu'))\n",
    "lstm_model.add(Dense(1,activation='sigmoid'))\n",
    "#optimizer = optimizers.RMSprop(lr=lr)\n",
    "optimizer = optimizers.RMSprop()\n",
    "lstm_model.compile(loss='mean_squared_error', optimizer=optimizer)"
   ]
  },
  {
   "cell_type": "code",
   "execution_count": 51,
   "metadata": {},
   "outputs": [
    {
     "name": "stdout",
     "output_type": "stream",
     "text": [
      "Train on 180 samples, validate on 20 samples\n",
      "Epoch 1/100\n",
      " - 2s - loss: 0.0973 - val_loss: 0.0796\n",
      "Epoch 2/100\n",
      " - 0s - loss: 0.0920 - val_loss: 0.0710\n",
      "Epoch 3/100\n",
      " - 0s - loss: 0.0827 - val_loss: 0.0344\n",
      "Epoch 4/100\n",
      " - 0s - loss: 0.0800 - val_loss: 0.0210\n",
      "Epoch 5/100\n",
      " - 0s - loss: 0.0670 - val_loss: 0.0081\n",
      "Epoch 6/100\n",
      " - 0s - loss: 0.0598 - val_loss: 0.0060\n",
      "Epoch 7/100\n",
      " - 0s - loss: 0.0438 - val_loss: 0.0098\n",
      "Epoch 8/100\n",
      " - 0s - loss: 0.0346 - val_loss: 0.0045\n",
      "Epoch 9/100\n",
      " - 0s - loss: 0.0338 - val_loss: 0.0063\n",
      "Epoch 10/100\n",
      " - 0s - loss: 0.0206 - val_loss: 0.0024\n",
      "Epoch 11/100\n",
      " - 0s - loss: 0.0320 - val_loss: 0.0021\n",
      "Epoch 12/100\n",
      " - 0s - loss: 0.0112 - val_loss: 0.0032\n",
      "Epoch 13/100\n",
      " - 0s - loss: 0.0178 - val_loss: 0.0019\n",
      "Epoch 14/100\n",
      " - 0s - loss: 0.0140 - val_loss: 0.0053\n",
      "Epoch 15/100\n",
      " - 0s - loss: 0.0145 - val_loss: 0.0035\n",
      "Epoch 16/100\n",
      " - 0s - loss: 0.0104 - val_loss: 0.0019\n",
      "Epoch 17/100\n",
      " - 0s - loss: 0.0092 - val_loss: 0.0060\n",
      "Epoch 18/100\n",
      " - 0s - loss: 0.0139 - val_loss: 0.0042\n",
      "Epoch 19/100\n",
      " - 0s - loss: 0.0087 - val_loss: 0.0029\n",
      "Epoch 20/100\n",
      " - 0s - loss: 0.0124 - val_loss: 0.0012\n",
      "Epoch 21/100\n",
      " - 0s - loss: 0.0094 - val_loss: 0.0010\n",
      "Epoch 22/100\n",
      " - 0s - loss: 0.0099 - val_loss: 0.0016\n",
      "Epoch 23/100\n",
      " - 0s - loss: 0.0088 - val_loss: 0.0024\n",
      "Epoch 24/100\n",
      " - 0s - loss: 0.0095 - val_loss: 9.8761e-04\n",
      "Epoch 25/100\n",
      " - 0s - loss: 0.0089 - val_loss: 0.0031\n",
      "Epoch 26/100\n",
      " - 0s - loss: 0.0123 - val_loss: 0.0012\n",
      "Epoch 27/100\n",
      " - 0s - loss: 0.0077 - val_loss: 0.0011\n",
      "Epoch 28/100\n",
      " - 0s - loss: 0.0084 - val_loss: 0.0019\n",
      "Epoch 29/100\n",
      " - 0s - loss: 0.0076 - val_loss: 8.3104e-04\n",
      "Epoch 30/100\n",
      " - 0s - loss: 0.0076 - val_loss: 0.0020\n",
      "Epoch 31/100\n",
      " - 0s - loss: 0.0071 - val_loss: 0.0010\n",
      "Epoch 32/100\n",
      " - 0s - loss: 0.0090 - val_loss: 0.0012\n",
      "Epoch 33/100\n",
      " - 0s - loss: 0.0075 - val_loss: 8.8252e-04\n",
      "Epoch 34/100\n",
      " - 0s - loss: 0.0076 - val_loss: 0.0017\n",
      "Epoch 35/100\n",
      " - 0s - loss: 0.0082 - val_loss: 9.9699e-04\n",
      "Epoch 36/100\n",
      " - 0s - loss: 0.0061 - val_loss: 0.0011\n",
      "Epoch 37/100\n",
      " - 0s - loss: 0.0064 - val_loss: 0.0012\n",
      "Epoch 38/100\n",
      " - 0s - loss: 0.0072 - val_loss: 0.0010\n",
      "Epoch 39/100\n",
      " - 0s - loss: 0.0063 - val_loss: 0.0014\n",
      "Epoch 40/100\n",
      " - 0s - loss: 0.0075 - val_loss: 0.0049\n",
      "Epoch 41/100\n",
      " - 0s - loss: 0.0078 - val_loss: 0.0010\n",
      "Epoch 42/100\n",
      " - 0s - loss: 0.0073 - val_loss: 6.6505e-04\n",
      "Epoch 43/100\n",
      " - 0s - loss: 0.0071 - val_loss: 0.0026\n",
      "Epoch 44/100\n",
      " - 0s - loss: 0.0053 - val_loss: 6.7597e-04\n",
      "Epoch 45/100\n",
      " - 0s - loss: 0.0069 - val_loss: 7.0706e-04\n",
      "Epoch 46/100\n",
      " - 0s - loss: 0.0079 - val_loss: 0.0014\n",
      "Epoch 47/100\n",
      " - 0s - loss: 0.0066 - val_loss: 0.0021\n",
      "Epoch 48/100\n",
      " - 0s - loss: 0.0061 - val_loss: 8.0467e-04\n",
      "Epoch 49/100\n",
      " - 0s - loss: 0.0070 - val_loss: 0.0020\n",
      "Epoch 50/100\n",
      " - 0s - loss: 0.0065 - val_loss: 0.0014\n",
      "Epoch 51/100\n",
      " - 0s - loss: 0.0057 - val_loss: 6.9349e-04\n",
      "Epoch 52/100\n",
      " - 0s - loss: 0.0065 - val_loss: 8.9416e-04\n",
      "Epoch 53/100\n",
      " - 0s - loss: 0.0056 - val_loss: 7.5590e-04\n",
      "Epoch 54/100\n",
      " - 0s - loss: 0.0063 - val_loss: 0.0012\n",
      "Epoch 55/100\n",
      " - 0s - loss: 0.0049 - val_loss: 0.0013\n",
      "Epoch 56/100\n",
      " - 0s - loss: 0.0052 - val_loss: 9.3248e-04\n",
      "Epoch 57/100\n",
      " - 0s - loss: 0.0075 - val_loss: 9.0240e-04\n",
      "Epoch 58/100\n",
      " - 0s - loss: 0.0045 - val_loss: 0.0011\n",
      "Epoch 59/100\n",
      " - 0s - loss: 0.0054 - val_loss: 7.2835e-04\n",
      "Epoch 60/100\n",
      " - 0s - loss: 0.0062 - val_loss: 0.0010\n",
      "Epoch 61/100\n",
      " - 0s - loss: 0.0070 - val_loss: 0.0011\n",
      "Epoch 62/100\n",
      " - 0s - loss: 0.0053 - val_loss: 0.0012\n",
      "Epoch 63/100\n",
      " - 0s - loss: 0.0043 - val_loss: 0.0022\n",
      "Epoch 64/100\n",
      " - 0s - loss: 0.0070 - val_loss: 7.4468e-04\n",
      "Epoch 65/100\n",
      " - 0s - loss: 0.0050 - val_loss: 7.4877e-04\n",
      "Epoch 66/100\n",
      " - 0s - loss: 0.0045 - val_loss: 0.0012\n",
      "Epoch 67/100\n",
      " - 0s - loss: 0.0054 - val_loss: 0.0015\n",
      "Epoch 68/100\n",
      " - 0s - loss: 0.0047 - val_loss: 9.0660e-04\n",
      "Epoch 69/100\n",
      " - 0s - loss: 0.0054 - val_loss: 7.8987e-04\n",
      "Epoch 70/100\n",
      " - 0s - loss: 0.0040 - val_loss: 0.0018\n",
      "Epoch 71/100\n",
      " - 0s - loss: 0.0049 - val_loss: 0.0010\n",
      "Epoch 72/100\n",
      " - 0s - loss: 0.0075 - val_loss: 7.5763e-04\n",
      "Epoch 73/100\n",
      " - 0s - loss: 0.0052 - val_loss: 8.0470e-04\n",
      "Epoch 74/100\n",
      " - 0s - loss: 0.0047 - val_loss: 0.0010\n",
      "Epoch 75/100\n",
      " - 0s - loss: 0.0045 - val_loss: 0.0012\n",
      "Epoch 76/100\n",
      " - 0s - loss: 0.0048 - val_loss: 0.0016\n",
      "Epoch 77/100\n",
      " - 0s - loss: 0.0038 - val_loss: 6.9235e-04\n",
      "Epoch 78/100\n",
      " - 0s - loss: 0.0044 - val_loss: 0.0010\n",
      "Epoch 79/100\n",
      " - 0s - loss: 0.0046 - val_loss: 0.0018\n",
      "Epoch 80/100\n",
      " - 0s - loss: 0.0087 - val_loss: 0.0011\n",
      "Epoch 81/100\n",
      " - 0s - loss: 0.0045 - val_loss: 7.3590e-04\n",
      "Epoch 82/100\n",
      " - 0s - loss: 0.0042 - val_loss: 7.2059e-04\n",
      "Epoch 83/100\n",
      " - 0s - loss: 0.0041 - val_loss: 8.0173e-04\n",
      "Epoch 84/100\n",
      " - 0s - loss: 0.0051 - val_loss: 0.0019\n",
      "Epoch 85/100\n",
      " - 0s - loss: 0.0044 - val_loss: 0.0014\n",
      "Epoch 86/100\n",
      " - 0s - loss: 0.0042 - val_loss: 8.9496e-04\n",
      "Epoch 87/100\n",
      " - 0s - loss: 0.0042 - val_loss: 8.5961e-04\n",
      "Epoch 88/100\n",
      " - 0s - loss: 0.0041 - val_loss: 0.0011\n",
      "Epoch 89/100\n",
      " - 0s - loss: 0.0040 - val_loss: 0.0011\n",
      "Epoch 90/100\n",
      " - 0s - loss: 0.0047 - val_loss: 0.0012\n",
      "Epoch 91/100\n",
      " - 0s - loss: 0.0050 - val_loss: 7.6832e-04\n",
      "Epoch 92/100\n",
      " - 0s - loss: 0.0036 - val_loss: 0.0011\n",
      "Epoch 93/100\n",
      " - 0s - loss: 0.0039 - val_loss: 7.9858e-04\n",
      "Epoch 94/100\n",
      " - 0s - loss: 0.0041 - val_loss: 7.9305e-04\n",
      "Epoch 95/100\n",
      " - 0s - loss: 0.0053 - val_loss: 0.0010\n",
      "Epoch 96/100\n",
      " - 0s - loss: 0.0042 - val_loss: 7.9308e-04\n",
      "Epoch 97/100\n",
      " - 0s - loss: 0.0043 - val_loss: 8.1426e-04\n",
      "Epoch 98/100\n",
      " - 0s - loss: 0.0033 - val_loss: 0.0021\n",
      "Epoch 99/100\n",
      " - 0s - loss: 0.0041 - val_loss: 8.0038e-04\n",
      "Epoch 100/100\n",
      " - 0s - loss: 0.0038 - val_loss: 9.2496e-04\n"
     ]
    }
   ],
   "source": [
    "from keras.callbacks import CSVLogger\n",
    "OUTPUT_PATH = \"C:\"\n",
    "csv_logger = CSVLogger(os.path.join(OUTPUT_PATH ,'FirstLSTM_TimeSeries' + '.log'), append=True)\n",
    "\n",
    "history = lstm_model.fit(x_t, y_t, epochs=100, verbose=2, batch_size=BATCH_SIZE,\n",
    "                    shuffle=False, validation_data=(trim_dataset(x_val, BATCH_SIZE),\n",
    "                    trim_dataset(y_val, BATCH_SIZE)), callbacks=[csv_logger])"
   ]
  },
  {
   "cell_type": "code",
   "execution_count": 53,
   "metadata": {},
   "outputs": [
    {
     "name": "stdout",
     "output_type": "stream",
     "text": [
      "Error is 0.001171163080491993 (20,) (20,)\n",
      "[0.23268154 0.2350125  0.24043638 0.24619713 0.24880567 0.26037273\n",
      " 0.26141447 0.2694965  0.27350459 0.27851564 0.26274902 0.24032784\n",
      " 0.21677473 0.17965451 0.17069253]\n",
      "[0.26559031 0.25486816 0.27261529 0.29935918 0.31784574 0.28530939\n",
      " 0.2957235  0.29418296 0.29806507 0.25659356 0.23317722 0.21019228\n",
      " 0.14610546 0.15571855 0.16520828]\n"
     ]
    }
   ],
   "source": [
    "from sklearn.metrics import mean_squared_error\n",
    "y_pred = lstm_model.predict(trim_dataset(x_test_t, BATCH_SIZE), batch_size=BATCH_SIZE)\n",
    "y_pred = y_pred.flatten()\n",
    "y_test_t = trim_dataset(y_test_t, BATCH_SIZE)\n",
    "error = mean_squared_error(y_test_t, y_pred)\n",
    "print(\"Error is\", error, y_pred.shape, y_test_t.shape)\n",
    "print(y_pred[0:15])\n",
    "print(y_test_t[0:15])"
   ]
  },
  {
   "cell_type": "code",
   "execution_count": 54,
   "metadata": {},
   "outputs": [
    {
     "data": {
      "text/plain": [
       "[<matplotlib.lines.Line2D at 0x22eb2552da0>]"
      ]
     },
     "execution_count": 54,
     "metadata": {},
     "output_type": "execute_result"
    },
    {
     "data": {
      "image/png": "[encoded data removed]",
      "text/plain": [
       "<Figure size 432x288 with 1 Axes>"
      ]
     },
     "metadata": {
      "needs_background": "light"
     },
     "output_type": "display_data"
    }
   ],
   "source": [
    "plt.plot(y_pred[0:15])"
   ]
  },
  {
   "cell_type": "code",
   "execution_count": 55,
   "metadata": {},
   "outputs": [
    {
     "data": {
      "text/plain": [
       "[<matplotlib.lines.Line2D at 0x22eb25b36d8>]"
      ]
     },
     "execution_count": 55,
     "metadata": {},
     "output_type": "execute_result"
    },
    {
     "data": {
      "image/png": "[encoded data removed]",
      "text/plain": [
       "<Figure size 432x288 with 1 Axes>"
      ]
     },
     "metadata": {
      "needs_background": "light"
     },
     "output_type": "display_data"
    }
   ],
   "source": [
    "plt.plot(y_test_t[0:15])"
   ]
  },
  {
   "cell_type": "code",
   "execution_count": null,
   "metadata": {},
   "outputs": [],
   "source": []
  }
 ],
 "metadata": {
  "kernelspec": {
   "display_name": "Python 3",
   "language": "python",
   "name": "python3"
  },
  "language_info": {
   "codemirror_mode": {
    "name": "ipython",
    "version": 3
   },
   "file_extension": ".py",
   "mimetype": "text/x-python",
   "name": "python",
   "nbconvert_exporter": "python",
   "pygments_lexer": "ipython3",
   "version": "3.7.3"
  }
 },
 "nbformat": 4,
 "nbformat_minor": 2
}
